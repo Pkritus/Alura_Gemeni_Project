{
  "nbformat": 4,
  "nbformat_minor": 0,
  "metadata": {
    "colab": {
      "provenance": [],
      "authorship_tag": "ABX9TyO7ep4sliyU7nR7TSne8NEw",
      "include_colab_link": true
    },
    "kernelspec": {
      "name": "python3",
      "display_name": "Python 3"
    },
    "language_info": {
      "name": "python"
    }
  },
  "cells": [
    {
      "cell_type": "markdown",
      "metadata": {
        "id": "view-in-github",
        "colab_type": "text"
      },
      "source": [
        "<a href=\"https://colab.research.google.com/github/Pkritus/Alura_Gemeni_Project/blob/main/Chatbot_culin%C3%A1rio_interativo.ipynb\" target=\"_parent\"><img src=\"https://colab.research.google.com/assets/colab-badge.svg\" alt=\"Open In Colab\"/></a>"
      ]
    },
    {
      "cell_type": "code",
      "execution_count": 3,
      "metadata": {
        "colab": {
          "base_uri": "https://localhost:8080/"
        },
        "id": "oeacHrQMkaM_",
        "outputId": "00444d15-7c35-484a-b599-e69a3818d40c"
      },
      "outputs": [
        {
          "output_type": "stream",
          "name": "stdout",
          "text": [
            "Olá! Sou seu ajudante culinário. O que você deseja cozinhar hoje?\n",
            "Digite sua pergunta: Frango\n",
            "Erro na requisição: Código 401\n",
            "Hmm, não encontrei nenhuma receita com essas especificações. 😔\n",
            "Que tal tentar outras?\n",
            "Deseja fazer outra pergunta? (s/n): não\n",
            "Até a próxima! 👋\n"
          ]
        }
      ],
      "source": [
        "!pip install -q -U google-generativeai\n",
        "!pip install -q -U requests\n",
        "\n",
        "import requests\n",
        "import google.generativeai as genai\n",
        "from google.colab import userdata\n",
        "userdata.get('API_KEY')\n",
        "from google.colab import userdata\n",
        "userdata.get('API_KEY_SPOONA')\n",
        "# Configure a sua API KEY do Google Generative AI\n",
        "genai.configure(api_key='API_KEY')\n",
        "\n",
        "\n",
        "# Configure a sua chave da API do Spoonacular\n",
        "API_KEY_SPOONACULAR = \"API_KEY_SPOONA\"\n",
        "\n",
        "def buscar_receitas_spoonacular(ingredientes, query=\"\", cuisine=\"\"):\n",
        "  \"\"\"\n",
        "  Busca receitas na API do Spoonacular com base nos ingredientes,\n",
        "  query de busca e tipo de cozinha.\n",
        "  \"\"\"\n",
        "  url = f\"https://api.spoonacular.com/recipes/complexSearch?apiKey={API_KEY_SPOONACULAR}\"\n",
        "  url += f\"&query={query}\" if query else \"\"\n",
        "  url += f\"&cuisine={cuisine}\" if cuisine else \"\"\n",
        "  url += f\"&includeIngredients={ingredientes}\" if ingredientes else \"\"\n",
        "  url += \"&number=1\"  # Busca apenas uma receita para simplificar\n",
        "\n",
        "  resposta = requests.get(url)\n",
        "\n",
        "  if resposta.status_code == 200:\n",
        "    dados = resposta.json()\n",
        "    if dados['results']:\n",
        "      return dados['results'][0]\n",
        "    else:\n",
        "      return None\n",
        "  else:\n",
        "    print(f\"Erro na requisição: Código {resposta.status_code}\")\n",
        "    return None\n",
        "\n",
        "def gerar_resposta_chatbot(pergunta):\n",
        "  \"\"\"\n",
        "  Gera a resposta do chatbot usando o Gemini.\n",
        "  \"\"\"\n",
        "\n",
        "  prompt = f\"\"\"Você é um chatbot especialista em culinária.\n",
        "  Responda a seguinte pergunta: {pergunta}\n",
        "  \"\"\"\n",
        "\n",
        "  resposta_gemini = genai.generate_text(\n",
        "      model=\"models/gemini-pro-1-0\",\n",
        "      prompt=prompt,\n",
        "      temperature=0.7,\n",
        "      max_output_tokens=256\n",
        "  )\n",
        "\n",
        "  return resposta_gemini.result\n",
        "\n",
        "print(\"Olá! Sou seu ajudante culinário. O que você deseja cozinhar hoje?\")\n",
        "\n",
        "while True:\n",
        "  pergunta = input(\"Digite sua pergunta: \")\n",
        "\n",
        "  # Extrair informações relevantes da pergunta (implementação simplificada)\n",
        "  ingredientes = None\n",
        "  if \"com\" in pergunta:\n",
        "    ingredientes = pergunta.split(\"com\")[-1].strip()\n",
        "\n",
        "  # Buscar receita na API do Spoonacular\n",
        "  receita = buscar_receitas_spoonacular(ingredientes)\n",
        "\n",
        "  if receita:\n",
        "    # Gerar resposta com Gemini, incluindo informações da receita\n",
        "    resposta_chatbot = gerar_resposta_chatbot(pergunta)\n",
        "\n",
        "    print(f\"Encontrei a receita perfeita para você! É {receita['title']}. 😉\\n\\n{resposta_chatbot}\")\n",
        "  else:\n",
        "    print(\"Hmm, não encontrei nenhuma receita com essas especificações. 😔\\nQue tal tentar outras?\")\n",
        "\n",
        "  if input(\"Deseja fazer outra pergunta? (s/n): \").lower() != 's':\n",
        "    print(\"Até a próxima! 👋\")\n",
        "    break"
      ]
    }
  ]
}